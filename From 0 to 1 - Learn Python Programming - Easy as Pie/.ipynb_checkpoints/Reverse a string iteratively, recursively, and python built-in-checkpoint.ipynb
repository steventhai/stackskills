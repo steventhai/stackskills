{
 "cells": [
  {
   "cell_type": "code",
   "execution_count": 28,
   "metadata": {
    "collapsed": false
   },
   "outputs": [
    {
     "name": "stdout",
     "output_type": "stream",
     "text": [
      "nam a ma I\n"
     ]
    }
   ],
   "source": [
    "#reverse string iteratively\n",
    "def reverseStringIter(value):\n",
    "    value = list(value)\n",
    "    first = 0\n",
    "    last = len(value) - 1\n",
    "    while first < last:\n",
    "        temp = value[first]\n",
    "        value[first] = value[last]\n",
    "        value[last] = temp\n",
    "        first += 1\n",
    "        last -= 1\n",
    "    value = ''.join(value)\n",
    "    print(value)\n",
    "reverseStringIter(\"I am a man\")"
   ]
  },
  {
   "cell_type": "code",
   "execution_count": 29,
   "metadata": {
    "collapsed": false
   },
   "outputs": [
    {
     "name": "stdout",
     "output_type": "stream",
     "text": [
      "nam a ma I\n"
     ]
    }
   ],
   "source": [
    "#reverse string recursively\n",
    "def reverseStringRec(value):\n",
    "    \n",
    "    if value is None:\n",
    "        return value\n",
    "    if len(value) <= 1:\n",
    "        return value\n",
    "    return reverseStringRec(value[1:]) + value[0]\n",
    "\n",
    "print(reverseStringRec(\"I am a man\"))"
   ]
  },
  {
   "cell_type": "code",
   "execution_count": 30,
   "metadata": {
    "collapsed": false
   },
   "outputs": [
    {
     "name": "stdout",
     "output_type": "stream",
     "text": [
      "The reverse of ' This is a string 'is' gnirts a si sihT '\n"
     ]
    }
   ],
   "source": [
    "# python built-in\n",
    "aString = \"This is a string\"\n",
    "print(\"The reverse of '\", aString, \"'is'\", aString[::-1], \"'\")"
   ]
  },
  {
   "cell_type": "code",
   "execution_count": null,
   "metadata": {
    "collapsed": true
   },
   "outputs": [],
   "source": []
  },
  {
   "cell_type": "code",
   "execution_count": null,
   "metadata": {
    "collapsed": true
   },
   "outputs": [],
   "source": []
  }
 ],
 "metadata": {
  "kernelspec": {
   "display_name": "Python 3",
   "language": "python",
   "name": "python3"
  },
  "language_info": {
   "codemirror_mode": {
    "name": "ipython",
    "version": 3
   },
   "file_extension": ".py",
   "mimetype": "text/x-python",
   "name": "python",
   "nbconvert_exporter": "python",
   "pygments_lexer": "ipython3",
   "version": "3.6.0"
  }
 },
 "nbformat": 4,
 "nbformat_minor": 2
}

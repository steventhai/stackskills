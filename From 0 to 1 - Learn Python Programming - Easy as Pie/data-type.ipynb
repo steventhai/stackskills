{
 "cells": [
  {
   "cell_type": "code",
   "execution_count": 69,
   "metadata": {
    "collapsed": true
   },
   "outputs": [],
   "source": [
    "#Operations with list"
   ]
  },
  {
   "cell_type": "code",
   "execution_count": 70,
   "metadata": {
    "collapsed": false
   },
   "outputs": [],
   "source": [
    "listVar = [1, 2, \"test\"]"
   ]
  },
  {
   "cell_type": "code",
   "execution_count": 71,
   "metadata": {
    "collapsed": true
   },
   "outputs": [],
   "source": [
    "listVar.append(\"test2\")"
   ]
  },
  {
   "cell_type": "code",
   "execution_count": 72,
   "metadata": {
    "collapsed": true
   },
   "outputs": [],
   "source": [
    "listVar.insert(0, 0)"
   ]
  },
  {
   "cell_type": "code",
   "execution_count": 73,
   "metadata": {
    "collapsed": false,
    "scrolled": true
   },
   "outputs": [
    {
     "name": "stdout",
     "output_type": "stream",
     "text": [
      "[0, 1, 2, 'test', 'test2']\n"
     ]
    }
   ],
   "source": [
    "print(listVar)"
   ]
  },
  {
   "cell_type": "code",
   "execution_count": 74,
   "metadata": {
    "collapsed": false
   },
   "outputs": [
    {
     "data": {
      "text/plain": [
       "[1, 2, 'test']"
      ]
     },
     "execution_count": 74,
     "metadata": {},
     "output_type": "execute_result"
    }
   ],
   "source": [
    "listVar[1:4]"
   ]
  },
  {
   "cell_type": "code",
   "execution_count": 75,
   "metadata": {
    "collapsed": false
   },
   "outputs": [
    {
     "data": {
      "text/plain": [
       "[1, 2, 'test', 'test2']"
      ]
     },
     "execution_count": 75,
     "metadata": {},
     "output_type": "execute_result"
    }
   ],
   "source": [
    "listVar[1:]"
   ]
  },
  {
   "cell_type": "code",
   "execution_count": 76,
   "metadata": {
    "collapsed": false
   },
   "outputs": [
    {
     "data": {
      "text/plain": [
       "[0, 1, 2, 'test']"
      ]
     },
     "execution_count": 76,
     "metadata": {},
     "output_type": "execute_result"
    }
   ],
   "source": [
    "listVar[:4]"
   ]
  },
  {
   "cell_type": "code",
   "execution_count": 77,
   "metadata": {
    "collapsed": true
   },
   "outputs": [],
   "source": [
    "#Operations with dictionary"
   ]
  },
  {
   "cell_type": "code",
   "execution_count": 78,
   "metadata": {
    "collapsed": true
   },
   "outputs": [],
   "source": [
    "dictVar = {}"
   ]
  },
  {
   "cell_type": "code",
   "execution_count": 79,
   "metadata": {
    "collapsed": true
   },
   "outputs": [],
   "source": [
    "dictVar[10] = \"This is number 10\""
   ]
  },
  {
   "cell_type": "code",
   "execution_count": 80,
   "metadata": {
    "collapsed": false
   },
   "outputs": [
    {
     "name": "stdout",
     "output_type": "stream",
     "text": [
      "{10: 'This is number 10'}\n"
     ]
    }
   ],
   "source": [
    "print(dictVar)"
   ]
  },
  {
   "cell_type": "code",
   "execution_count": 81,
   "metadata": {
    "collapsed": true
   },
   "outputs": [],
   "source": [
    "dictVar[9] = 'This is number 9'"
   ]
  },
  {
   "cell_type": "code",
   "execution_count": 82,
   "metadata": {
    "collapsed": false
   },
   "outputs": [
    {
     "name": "stdout",
     "output_type": "stream",
     "text": [
      "{10: 'This is number 10', 9: 'This is number 9'}\n"
     ]
    }
   ],
   "source": [
    "print(dictVar)"
   ]
  },
  {
   "cell_type": "code",
   "execution_count": 83,
   "metadata": {
    "collapsed": false
   },
   "outputs": [
    {
     "name": "stdout",
     "output_type": "stream",
     "text": [
      "dict_keys([10, 9])\n",
      "2\n"
     ]
    }
   ],
   "source": [
    "#Number of keys\n",
    "keys = dictVar.keys()\n",
    "print(keys)\n",
    "print(len(keys))"
   ]
  },
  {
   "cell_type": "code",
   "execution_count": 84,
   "metadata": {
    "collapsed": false
   },
   "outputs": [
    {
     "name": "stdout",
     "output_type": "stream",
     "text": [
      "dict_values(['This is number 10', 'This is number 9'])\n",
      "2\n"
     ]
    }
   ],
   "source": [
    "#Number of values\n",
    "values = dictVar.values()\n",
    "print(values)\n",
    "print(len(values))"
   ]
  },
  {
   "cell_type": "code",
   "execution_count": 85,
   "metadata": {
    "collapsed": false
   },
   "outputs": [
    {
     "name": "stdout",
     "output_type": "stream",
     "text": [
      "{10: 'This is number 10', 9: 'This is number 9', 'new': 9}\n"
     ]
    }
   ],
   "source": [
    "#insert another key/value pair\n",
    "dictVar[\"new\"] = 9\n",
    "print(dictVar)"
   ]
  },
  {
   "cell_type": "code",
   "execution_count": 86,
   "metadata": {
    "collapsed": false
   },
   "outputs": [
    {
     "name": "stdout",
     "output_type": "stream",
     "text": [
      "Pop new with value: 9 from the list\n",
      "{10: 'This is number 10', 9: 'This is number 9'}\n"
     ]
    }
   ],
   "source": [
    "# remove the inserted key/value pair\n",
    "if 'new' in dictVar:\n",
    "    value = dictVar.pop('new')\n",
    "    print('Pop ''new'' with value: ' + str(value) + \" from the list\")\n",
    "print(dictVar)"
   ]
  },
  {
   "cell_type": "code",
   "execution_count": 87,
   "metadata": {
    "collapsed": false
   },
   "outputs": [
    {
     "name": "stdout",
     "output_type": "stream",
     "text": [
      "10\n",
      "9\n"
     ]
    }
   ],
   "source": [
    "for key in dictVar:\n",
    "    print(key)"
   ]
  },
  {
   "cell_type": "code",
   "execution_count": 88,
   "metadata": {
    "collapsed": true
   },
   "outputs": [],
   "source": [
    "# Negative indexing with string"
   ]
  },
  {
   "cell_type": "code",
   "execution_count": 89,
   "metadata": {
    "collapsed": false
   },
   "outputs": [
    {
     "name": "stdout",
     "output_type": "stream",
     "text": [
      "ing\n"
     ]
    }
   ],
   "source": [
    "string = \"My String\"\n",
    "# will print 'ing'\n",
    "print(string[-3:])"
   ]
  },
  {
   "cell_type": "code",
   "execution_count": 90,
   "metadata": {
    "collapsed": false
   },
   "outputs": [
    {
     "name": "stdout",
     "output_type": "stream",
     "text": [
      "My Str\n"
     ]
    }
   ],
   "source": [
    "#will print 'My Str'\n",
    "print(string[:-3])"
   ]
  },
  {
   "cell_type": "code",
   "execution_count": 91,
   "metadata": {
    "collapsed": false
   },
   "outputs": [
    {
     "name": "stdout",
     "output_type": "stream",
     "text": [
      " Str\n"
     ]
    }
   ],
   "source": [
    "# will print ' Str'\n",
    "print(string[-7:-3])"
   ]
  },
  {
   "cell_type": "code",
   "execution_count": 94,
   "metadata": {
    "collapsed": false
   },
   "outputs": [
    {
     "name": "stdout",
     "output_type": "stream",
     "text": [
      "Enter web URL to download: test.com\n",
      "Please enter a short name for test.com: test\n",
      "-------Unexpected Error------- <class 'ValueError'>\n",
      "Stop or proceed? Enter 1 to stop. Enter: 1\n",
      "Ok, let's stop\n",
      "dict_keys([])\n"
     ]
    }
   ],
   "source": [
    "''' Download a URL from the user input'''\n",
    "from urllib.request import urlopen\n",
    "import sys\n",
    "\n",
    "urlName = 'http://google.com'\n",
    "downloadedUrls = {}\n",
    "\n",
    "while urlName != '':\n",
    "    try:\n",
    "        urlName = input(\"Enter web URL to download: \")\n",
    "        if urlName == '':\n",
    "            print('OK, exiting...')\n",
    "            break\n",
    "        shortName = input(\"Please enter a short name for \" + urlName + \": \")\n",
    "        webFile = urlopen(urlName).read()\n",
    "        downloadedUrls[shortName] = webFile\n",
    "    except:\n",
    "        print(\"-------Unexpected Error-------\", sys.exc_info()[0])\n",
    "        stopOrProceed = input(\"Stop or proceed? Enter 1 to stop. Enter: \")\n",
    "        if int(stopOrProceed) == 1:\n",
    "            print(\"Ok, let's stop\")\n",
    "            break\n",
    "        else:\n",
    "            print(\"Cool, let's continue\")\n",
    "            continue\n",
    "\n",
    "print(downloadedUrls.keys())"
   ]
  },
  {
   "cell_type": "code",
   "execution_count": null,
   "metadata": {
    "collapsed": true
   },
   "outputs": [],
   "source": []
  }
 ],
 "metadata": {
  "kernelspec": {
   "display_name": "Python 3",
   "language": "python",
   "name": "python3"
  },
  "language_info": {
   "codemirror_mode": {
    "name": "ipython",
    "version": 3
   },
   "file_extension": ".py",
   "mimetype": "text/x-python",
   "name": "python",
   "nbconvert_exporter": "python",
   "pygments_lexer": "ipython3",
   "version": "3.6.0"
  }
 },
 "nbformat": 4,
 "nbformat_minor": 2
}
